{
 "cells": [
  {
   "cell_type": "code",
   "execution_count": 23,
   "metadata": {},
   "outputs": [],
   "source": [
    "import psycopg2\n",
    "import matplotlib.pyplot as plt"
   ]
  },
  {
   "cell_type": "code",
   "execution_count": 24,
   "metadata": {},
   "outputs": [],
   "source": [
    "def get_conn():\n",
    "    conn = psycopg2.connect (\n",
    "        host     = \"cc3201.dcc.uchile.cl\",\n",
    "        database = \"cc3201\",\n",
    "        user     = \"cc3201\",\n",
    "        password = \"j'<3_cc3201\",\n",
    "        port     = \"5440\"\n",
    "    )\n",
    "    return conn"
   ]
  },
  {
   "cell_type": "code",
   "execution_count": 25,
   "metadata": {},
   "outputs": [],
   "source": [
    "def size_table(tamanno):\n",
    "    conn = get_conn()\n",
    "    cur  = conn.cursor() \n",
    "    consulta = f\"select count(*) from opt.pelicula{tamanno};\"\n",
    "    cur.execute(consulta)\n",
    "    size = cur.fetchone()\n",
    "    conn.close()\n",
    "    return float(size[0])\n"
   ]
  },
  {
   "cell_type": "code",
   "execution_count": 26,
   "metadata": {},
   "outputs": [],
   "source": [
    "def time_cons(tamanno: int, optimizacion: str, anidada: bool):\n",
    "    conn = get_conn()\n",
    "    cur = conn.cursor()\n",
    "\n",
    "    if anidada:\n",
    "        consulta = f\"\"\"\n",
    "            explain analyze\n",
    "            select distinct pelicula.nombre, pelicula.anho\n",
    "            from {optimizacion}.pelicula{tamanno}  as pelicula,\n",
    "                 {optimizacion}.personaje{tamanno} as personaje\n",
    "            where pelicula.nombre = personaje.p_nombre\n",
    "            and   pelicula.anho   = personaje.p_anho\n",
    "            and   personaje.a_nombre in (\n",
    "                select  personaje.a_nombre \n",
    "                from  {optimizacion}.pelicula{tamanno}  as pelicula,\n",
    "                      {optimizacion}.personaje{tamanno} as personaje\n",
    "                where personaje.p_nombre = pelicula.nombre\n",
    "                and   pelicula.nombre = 'Batman v Superman: Dawn of Justice'\n",
    "            );\"\"\"\n",
    "    else:\n",
    "        consulta = f\"\"\"\n",
    "            explain analyze\n",
    "            select distinct pelicula1.nombre, pelicula1.anho\n",
    "            from {optimizacion}.pelicula{tamanno} as pelicula1,\n",
    "                 {optimizacion}.personaje{tamanno} as personaje1,\n",
    "                 {optimizacion}.pelicula{tamanno} as pelicula2,\n",
    "                 {optimizacion}.personaje{tamanno} as personaje2\n",
    "            where pelicula1.nombre = personaje1.p_nombre\n",
    "            and   pelicula1.anho   = personaje1.p_anho\n",
    "            and   pelicula2.nombre = personaje2.p_nombre\n",
    "            and   pelicula2.anho   = personaje2.p_anho\n",
    "            and   pelicula2.nombre = 'Batman v Superman: Dawn of Justice'\n",
    "            and   personaje2.a_nombre = personaje1.a_nombre;\n",
    "            \"\"\"\n",
    "\n",
    "    cur.execute(consulta)\n",
    "    r = cur.fetchone()\n",
    "\n",
    "    while (r):\n",
    "        r = r[0]\n",
    "        if(\"Planning Time\" in r):\n",
    "            p_time = r\n",
    "        if(\"Execution Time\" in r):\n",
    "            e_time = r\n",
    "        r = cur.fetchone()\n",
    "\n",
    "    conn.close()\n",
    "    return  p_time, e_time\n",
    "\n"
   ]
  },
  {
   "cell_type": "code",
   "execution_count": 27,
   "metadata": {},
   "outputs": [
    {
     "ename": "AttributeError",
     "evalue": "module 'psycopg2' has no attribute 'connect'",
     "output_type": "error",
     "traceback": [
      "\u001b[0;31m---------------------------------------------------------------------------\u001b[0m",
      "\u001b[0;31mAttributeError\u001b[0m                            Traceback (most recent call last)",
      "\u001b[1;32m/Users/martinbravodiaz/Library/CloudStorage/OneDrive-UniversidaddeChile/Estudio/Universidad/6° Semestre/Bases de Datos/Laboratorios/Laboratorio_7/lab7.ipynb Cell 5\u001b[0m line \u001b[0;36m2\n\u001b[1;32m      <a href='vscode-notebook-cell:/Users/martinbravodiaz/Library/CloudStorage/OneDrive-UniversidaddeChile/Estudio/Universidad/6%C2%B0%20Semestre/Bases%20de%20Datos/Laboratorios/Laboratorio_7/lab7.ipynb#W4sZmlsZQ%3D%3D?line=0'>1</a>\u001b[0m ns \u001b[39m=\u001b[39m [\u001b[39m100\u001b[39m, \u001b[39m1000\u001b[39m, \u001b[39m10000\u001b[39m]\n\u001b[0;32m----> <a href='vscode-notebook-cell:/Users/martinbravodiaz/Library/CloudStorage/OneDrive-UniversidaddeChile/Estudio/Universidad/6%C2%B0%20Semestre/Bases%20de%20Datos/Laboratorios/Laboratorio_7/lab7.ipynb#W4sZmlsZQ%3D%3D?line=1'>2</a>\u001b[0m size_tables \u001b[39m=\u001b[39m [size_table(x)\u001b[39m/\u001b[39;49m(\u001b[39m10\u001b[39;49m\u001b[39m*\u001b[39;49m\u001b[39m*\u001b[39;49m\u001b[39m4\u001b[39;49m) \u001b[39mfor\u001b[39;49;00m x \u001b[39min\u001b[39;49;00m ns]\n",
      "\u001b[1;32m/Users/martinbravodiaz/Library/CloudStorage/OneDrive-UniversidaddeChile/Estudio/Universidad/6° Semestre/Bases de Datos/Laboratorios/Laboratorio_7/lab7.ipynb Cell 5\u001b[0m line \u001b[0;36m2\n\u001b[1;32m      <a href='vscode-notebook-cell:/Users/martinbravodiaz/Library/CloudStorage/OneDrive-UniversidaddeChile/Estudio/Universidad/6%C2%B0%20Semestre/Bases%20de%20Datos/Laboratorios/Laboratorio_7/lab7.ipynb#W4sZmlsZQ%3D%3D?line=0'>1</a>\u001b[0m ns \u001b[39m=\u001b[39m [\u001b[39m100\u001b[39m, \u001b[39m1000\u001b[39m, \u001b[39m10000\u001b[39m]\n\u001b[0;32m----> <a href='vscode-notebook-cell:/Users/martinbravodiaz/Library/CloudStorage/OneDrive-UniversidaddeChile/Estudio/Universidad/6%C2%B0%20Semestre/Bases%20de%20Datos/Laboratorios/Laboratorio_7/lab7.ipynb#W4sZmlsZQ%3D%3D?line=1'>2</a>\u001b[0m size_tables \u001b[39m=\u001b[39m [size_table(x)\u001b[39m/\u001b[39m(\u001b[39m10\u001b[39m\u001b[39m*\u001b[39m\u001b[39m*\u001b[39m\u001b[39m4\u001b[39m) \u001b[39mfor\u001b[39;00m x \u001b[39min\u001b[39;00m ns]\n",
      "\u001b[1;32m/Users/martinbravodiaz/Library/CloudStorage/OneDrive-UniversidaddeChile/Estudio/Universidad/6° Semestre/Bases de Datos/Laboratorios/Laboratorio_7/lab7.ipynb Cell 5\u001b[0m line \u001b[0;36m2\n\u001b[1;32m      <a href='vscode-notebook-cell:/Users/martinbravodiaz/Library/CloudStorage/OneDrive-UniversidaddeChile/Estudio/Universidad/6%C2%B0%20Semestre/Bases%20de%20Datos/Laboratorios/Laboratorio_7/lab7.ipynb#W4sZmlsZQ%3D%3D?line=0'>1</a>\u001b[0m \u001b[39mdef\u001b[39;00m \u001b[39msize_table\u001b[39m(tamanno):\n\u001b[0;32m----> <a href='vscode-notebook-cell:/Users/martinbravodiaz/Library/CloudStorage/OneDrive-UniversidaddeChile/Estudio/Universidad/6%C2%B0%20Semestre/Bases%20de%20Datos/Laboratorios/Laboratorio_7/lab7.ipynb#W4sZmlsZQ%3D%3D?line=1'>2</a>\u001b[0m     conn \u001b[39m=\u001b[39m get_conn()\n\u001b[1;32m      <a href='vscode-notebook-cell:/Users/martinbravodiaz/Library/CloudStorage/OneDrive-UniversidaddeChile/Estudio/Universidad/6%C2%B0%20Semestre/Bases%20de%20Datos/Laboratorios/Laboratorio_7/lab7.ipynb#W4sZmlsZQ%3D%3D?line=2'>3</a>\u001b[0m     cur  \u001b[39m=\u001b[39m conn\u001b[39m.\u001b[39mcursor() \n\u001b[1;32m      <a href='vscode-notebook-cell:/Users/martinbravodiaz/Library/CloudStorage/OneDrive-UniversidaddeChile/Estudio/Universidad/6%C2%B0%20Semestre/Bases%20de%20Datos/Laboratorios/Laboratorio_7/lab7.ipynb#W4sZmlsZQ%3D%3D?line=3'>4</a>\u001b[0m     consulta \u001b[39m=\u001b[39m \u001b[39mf\u001b[39m\u001b[39m\"\u001b[39m\u001b[39mselect count(*) from opt.pelicula\u001b[39m\u001b[39m{\u001b[39;00mtamanno\u001b[39m}\u001b[39;00m\u001b[39m;\u001b[39m\u001b[39m\"\u001b[39m\n",
      "\u001b[1;32m/Users/martinbravodiaz/Library/CloudStorage/OneDrive-UniversidaddeChile/Estudio/Universidad/6° Semestre/Bases de Datos/Laboratorios/Laboratorio_7/lab7.ipynb Cell 5\u001b[0m line \u001b[0;36m2\n\u001b[1;32m      <a href='vscode-notebook-cell:/Users/martinbravodiaz/Library/CloudStorage/OneDrive-UniversidaddeChile/Estudio/Universidad/6%C2%B0%20Semestre/Bases%20de%20Datos/Laboratorios/Laboratorio_7/lab7.ipynb#W4sZmlsZQ%3D%3D?line=0'>1</a>\u001b[0m \u001b[39mdef\u001b[39;00m \u001b[39mget_conn\u001b[39m():\n\u001b[0;32m----> <a href='vscode-notebook-cell:/Users/martinbravodiaz/Library/CloudStorage/OneDrive-UniversidaddeChile/Estudio/Universidad/6%C2%B0%20Semestre/Bases%20de%20Datos/Laboratorios/Laboratorio_7/lab7.ipynb#W4sZmlsZQ%3D%3D?line=1'>2</a>\u001b[0m     conn \u001b[39m=\u001b[39m psycopg2\u001b[39m.\u001b[39;49mconnect (\n\u001b[1;32m      <a href='vscode-notebook-cell:/Users/martinbravodiaz/Library/CloudStorage/OneDrive-UniversidaddeChile/Estudio/Universidad/6%C2%B0%20Semestre/Bases%20de%20Datos/Laboratorios/Laboratorio_7/lab7.ipynb#W4sZmlsZQ%3D%3D?line=2'>3</a>\u001b[0m         host     \u001b[39m=\u001b[39m \u001b[39m\"\u001b[39m\u001b[39mcc3201.dcc.uchile.cl\u001b[39m\u001b[39m\"\u001b[39m,\n\u001b[1;32m      <a href='vscode-notebook-cell:/Users/martinbravodiaz/Library/CloudStorage/OneDrive-UniversidaddeChile/Estudio/Universidad/6%C2%B0%20Semestre/Bases%20de%20Datos/Laboratorios/Laboratorio_7/lab7.ipynb#W4sZmlsZQ%3D%3D?line=3'>4</a>\u001b[0m         database \u001b[39m=\u001b[39m \u001b[39m\"\u001b[39m\u001b[39mcc3201\u001b[39m\u001b[39m\"\u001b[39m,\n\u001b[1;32m      <a href='vscode-notebook-cell:/Users/martinbravodiaz/Library/CloudStorage/OneDrive-UniversidaddeChile/Estudio/Universidad/6%C2%B0%20Semestre/Bases%20de%20Datos/Laboratorios/Laboratorio_7/lab7.ipynb#W4sZmlsZQ%3D%3D?line=4'>5</a>\u001b[0m         user     \u001b[39m=\u001b[39m \u001b[39m\"\u001b[39m\u001b[39mcc3201\u001b[39m\u001b[39m\"\u001b[39m,\n\u001b[1;32m      <a href='vscode-notebook-cell:/Users/martinbravodiaz/Library/CloudStorage/OneDrive-UniversidaddeChile/Estudio/Universidad/6%C2%B0%20Semestre/Bases%20de%20Datos/Laboratorios/Laboratorio_7/lab7.ipynb#W4sZmlsZQ%3D%3D?line=5'>6</a>\u001b[0m         password \u001b[39m=\u001b[39m \u001b[39m\"\u001b[39m\u001b[39mj\u001b[39m\u001b[39m'\u001b[39m\u001b[39m<3_cc3201\u001b[39m\u001b[39m\"\u001b[39m,\n\u001b[1;32m      <a href='vscode-notebook-cell:/Users/martinbravodiaz/Library/CloudStorage/OneDrive-UniversidaddeChile/Estudio/Universidad/6%C2%B0%20Semestre/Bases%20de%20Datos/Laboratorios/Laboratorio_7/lab7.ipynb#W4sZmlsZQ%3D%3D?line=6'>7</a>\u001b[0m         port     \u001b[39m=\u001b[39m \u001b[39m\"\u001b[39m\u001b[39m5440\u001b[39m\u001b[39m\"\u001b[39m\n\u001b[1;32m      <a href='vscode-notebook-cell:/Users/martinbravodiaz/Library/CloudStorage/OneDrive-UniversidaddeChile/Estudio/Universidad/6%C2%B0%20Semestre/Bases%20de%20Datos/Laboratorios/Laboratorio_7/lab7.ipynb#W4sZmlsZQ%3D%3D?line=7'>8</a>\u001b[0m     )\n\u001b[1;32m      <a href='vscode-notebook-cell:/Users/martinbravodiaz/Library/CloudStorage/OneDrive-UniversidaddeChile/Estudio/Universidad/6%C2%B0%20Semestre/Bases%20de%20Datos/Laboratorios/Laboratorio_7/lab7.ipynb#W4sZmlsZQ%3D%3D?line=8'>9</a>\u001b[0m     \u001b[39mreturn\u001b[39;00m conn\n",
      "\u001b[0;31mAttributeError\u001b[0m: module 'psycopg2' has no attribute 'connect'"
     ]
    }
   ],
   "source": [
    "ns = [100, 1000, 10000]\n",
    "size_tables = [size_table(x)/(10**4) for x in ns]"
   ]
  },
  {
   "cell_type": "code",
   "execution_count": null,
   "metadata": {},
   "outputs": [],
   "source": [
    "def get_result(optimizacion, anidado):\n",
    "    y = []\n",
    "    for n in ns:\n",
    "        p_time, e_time = time_cons(n, optimizacion, anidado)\n",
    "        print(\"\\t\",str(n)+\":\"+\" \"*(6 - len(str(n))), p_time, e_time)\n",
    "\n",
    "        p_time = p_time.replace(\"Planning Time: \", \"\").replace(\" ms\", \"\")\n",
    "        e_time = e_time.replace(\"Execution Time: \", \"\").replace(\" ms\", \"\")\n",
    "\n",
    "        y.append(float(p_time) + float(e_time))\n",
    "    return y"
   ]
  },
  {
   "cell_type": "code",
   "execution_count": null,
   "metadata": {},
   "outputs": [
    {
     "name": "stdout",
     "output_type": "stream",
     "text": [
      "Consulta anidada: \n",
      "\n",
      "  Consulta no optimizada: \n"
     ]
    },
    {
     "ename": "NameError",
     "evalue": "name 'psycopg2' is not defined",
     "output_type": "error",
     "traceback": [
      "\u001b[0;31m---------------------------------------------------------------------------\u001b[0m",
      "\u001b[0;31mNameError\u001b[0m                                 Traceback (most recent call last)",
      "\u001b[1;32m/Users/martinbravodiaz/Library/CloudStorage/OneDrive-UniversidaddeChile/Estudio/Universidad/6° Semestre/Bases de Datos/Laboratorios/Laboratorio_7/lab7.ipynb Cell 7\u001b[0m line \u001b[0;36m4\n\u001b[1;32m      <a href='vscode-notebook-cell:/Users/martinbravodiaz/Library/CloudStorage/OneDrive-UniversidaddeChile/Estudio/Universidad/6%C2%B0%20Semestre/Bases%20de%20Datos/Laboratorios/Laboratorio_7/lab7.ipynb#W6sZmlsZQ%3D%3D?line=0'>1</a>\u001b[0m \u001b[39mprint\u001b[39m(\u001b[39m\"\u001b[39m\u001b[39mConsulta anidada: \u001b[39m\u001b[39m\\n\u001b[39;00m\u001b[39m\"\u001b[39m)\n\u001b[1;32m      <a href='vscode-notebook-cell:/Users/martinbravodiaz/Library/CloudStorage/OneDrive-UniversidaddeChile/Estudio/Universidad/6%C2%B0%20Semestre/Bases%20de%20Datos/Laboratorios/Laboratorio_7/lab7.ipynb#W6sZmlsZQ%3D%3D?line=2'>3</a>\u001b[0m \u001b[39mprint\u001b[39m(\u001b[39m\"\u001b[39m\u001b[39m  Consulta no optimizada: \u001b[39m\u001b[39m\"\u001b[39m)\n\u001b[0;32m----> <a href='vscode-notebook-cell:/Users/martinbravodiaz/Library/CloudStorage/OneDrive-UniversidaddeChile/Estudio/Universidad/6%C2%B0%20Semestre/Bases%20de%20Datos/Laboratorios/Laboratorio_7/lab7.ipynb#W6sZmlsZQ%3D%3D?line=3'>4</a>\u001b[0m opt_anidada \u001b[39m=\u001b[39m get_result(\u001b[39m\"\u001b[39;49m\u001b[39mopt\u001b[39;49m\u001b[39m\"\u001b[39;49m, \u001b[39mTrue\u001b[39;49;00m)\n\u001b[1;32m      <a href='vscode-notebook-cell:/Users/martinbravodiaz/Library/CloudStorage/OneDrive-UniversidaddeChile/Estudio/Universidad/6%C2%B0%20Semestre/Bases%20de%20Datos/Laboratorios/Laboratorio_7/lab7.ipynb#W6sZmlsZQ%3D%3D?line=4'>5</a>\u001b[0m plt\u001b[39m.\u001b[39mplot(size_tables, opt_anidada, marker\u001b[39m=\u001b[39m\u001b[39m'\u001b[39m\u001b[39mx\u001b[39m\u001b[39m'\u001b[39m, color\u001b[39m=\u001b[39m\u001b[39m'\u001b[39m\u001b[39mr\u001b[39m\u001b[39m'\u001b[39m, linestyle\u001b[39m=\u001b[39m\u001b[39m'\u001b[39m\u001b[39m-\u001b[39m\u001b[39m'\u001b[39m, label\u001b[39m=\u001b[39m\u001b[39m\"\u001b[39m\u001b[39mopt\u001b[39m\u001b[39m\"\u001b[39m)\n\u001b[1;32m      <a href='vscode-notebook-cell:/Users/martinbravodiaz/Library/CloudStorage/OneDrive-UniversidaddeChile/Estudio/Universidad/6%C2%B0%20Semestre/Bases%20de%20Datos/Laboratorios/Laboratorio_7/lab7.ipynb#W6sZmlsZQ%3D%3D?line=6'>7</a>\u001b[0m \u001b[39mprint\u001b[39m(\u001b[39m\"\u001b[39m\u001b[39m  Consulta optimizada: \u001b[39m\u001b[39m\"\u001b[39m)\n",
      "\u001b[1;32m/Users/martinbravodiaz/Library/CloudStorage/OneDrive-UniversidaddeChile/Estudio/Universidad/6° Semestre/Bases de Datos/Laboratorios/Laboratorio_7/lab7.ipynb Cell 7\u001b[0m line \u001b[0;36m4\n\u001b[1;32m      <a href='vscode-notebook-cell:/Users/martinbravodiaz/Library/CloudStorage/OneDrive-UniversidaddeChile/Estudio/Universidad/6%C2%B0%20Semestre/Bases%20de%20Datos/Laboratorios/Laboratorio_7/lab7.ipynb#W6sZmlsZQ%3D%3D?line=1'>2</a>\u001b[0m y \u001b[39m=\u001b[39m []\n\u001b[1;32m      <a href='vscode-notebook-cell:/Users/martinbravodiaz/Library/CloudStorage/OneDrive-UniversidaddeChile/Estudio/Universidad/6%C2%B0%20Semestre/Bases%20de%20Datos/Laboratorios/Laboratorio_7/lab7.ipynb#W6sZmlsZQ%3D%3D?line=2'>3</a>\u001b[0m \u001b[39mfor\u001b[39;00m n \u001b[39min\u001b[39;00m ns:\n\u001b[0;32m----> <a href='vscode-notebook-cell:/Users/martinbravodiaz/Library/CloudStorage/OneDrive-UniversidaddeChile/Estudio/Universidad/6%C2%B0%20Semestre/Bases%20de%20Datos/Laboratorios/Laboratorio_7/lab7.ipynb#W6sZmlsZQ%3D%3D?line=3'>4</a>\u001b[0m     p_time, e_time \u001b[39m=\u001b[39m time_cons(n, optimizacion, anidado)\n\u001b[1;32m      <a href='vscode-notebook-cell:/Users/martinbravodiaz/Library/CloudStorage/OneDrive-UniversidaddeChile/Estudio/Universidad/6%C2%B0%20Semestre/Bases%20de%20Datos/Laboratorios/Laboratorio_7/lab7.ipynb#W6sZmlsZQ%3D%3D?line=4'>5</a>\u001b[0m     \u001b[39mprint\u001b[39m(\u001b[39m\"\u001b[39m\u001b[39m\\t\u001b[39;00m\u001b[39m\"\u001b[39m,\u001b[39mstr\u001b[39m(n)\u001b[39m+\u001b[39m\u001b[39m\"\u001b[39m\u001b[39m:\u001b[39m\u001b[39m\"\u001b[39m\u001b[39m+\u001b[39m\u001b[39m\"\u001b[39m\u001b[39m \u001b[39m\u001b[39m\"\u001b[39m\u001b[39m*\u001b[39m(\u001b[39m6\u001b[39m \u001b[39m-\u001b[39m \u001b[39mlen\u001b[39m(\u001b[39mstr\u001b[39m(n))), p_time, e_time)\n\u001b[1;32m      <a href='vscode-notebook-cell:/Users/martinbravodiaz/Library/CloudStorage/OneDrive-UniversidaddeChile/Estudio/Universidad/6%C2%B0%20Semestre/Bases%20de%20Datos/Laboratorios/Laboratorio_7/lab7.ipynb#W6sZmlsZQ%3D%3D?line=6'>7</a>\u001b[0m     p_time \u001b[39m=\u001b[39m p_time\u001b[39m.\u001b[39mreplace(\u001b[39m\"\u001b[39m\u001b[39mPlanning Time: \u001b[39m\u001b[39m\"\u001b[39m, \u001b[39m\"\u001b[39m\u001b[39m\"\u001b[39m)\u001b[39m.\u001b[39mreplace(\u001b[39m\"\u001b[39m\u001b[39m ms\u001b[39m\u001b[39m\"\u001b[39m, \u001b[39m\"\u001b[39m\u001b[39m\"\u001b[39m)\n",
      "\u001b[1;32m/Users/martinbravodiaz/Library/CloudStorage/OneDrive-UniversidaddeChile/Estudio/Universidad/6° Semestre/Bases de Datos/Laboratorios/Laboratorio_7/lab7.ipynb Cell 7\u001b[0m line \u001b[0;36m2\n\u001b[1;32m      <a href='vscode-notebook-cell:/Users/martinbravodiaz/Library/CloudStorage/OneDrive-UniversidaddeChile/Estudio/Universidad/6%C2%B0%20Semestre/Bases%20de%20Datos/Laboratorios/Laboratorio_7/lab7.ipynb#W6sZmlsZQ%3D%3D?line=0'>1</a>\u001b[0m \u001b[39mdef\u001b[39;00m \u001b[39mtime_cons\u001b[39m(tamanno: \u001b[39mint\u001b[39m, optimizacion: \u001b[39mstr\u001b[39m, anidada: \u001b[39mbool\u001b[39m):\n\u001b[0;32m----> <a href='vscode-notebook-cell:/Users/martinbravodiaz/Library/CloudStorage/OneDrive-UniversidaddeChile/Estudio/Universidad/6%C2%B0%20Semestre/Bases%20de%20Datos/Laboratorios/Laboratorio_7/lab7.ipynb#W6sZmlsZQ%3D%3D?line=1'>2</a>\u001b[0m     conn \u001b[39m=\u001b[39m get_conn()\n\u001b[1;32m      <a href='vscode-notebook-cell:/Users/martinbravodiaz/Library/CloudStorage/OneDrive-UniversidaddeChile/Estudio/Universidad/6%C2%B0%20Semestre/Bases%20de%20Datos/Laboratorios/Laboratorio_7/lab7.ipynb#W6sZmlsZQ%3D%3D?line=2'>3</a>\u001b[0m     cur \u001b[39m=\u001b[39m conn\u001b[39m.\u001b[39mcursor()\n\u001b[1;32m      <a href='vscode-notebook-cell:/Users/martinbravodiaz/Library/CloudStorage/OneDrive-UniversidaddeChile/Estudio/Universidad/6%C2%B0%20Semestre/Bases%20de%20Datos/Laboratorios/Laboratorio_7/lab7.ipynb#W6sZmlsZQ%3D%3D?line=4'>5</a>\u001b[0m     \u001b[39mif\u001b[39;00m anidada:\n",
      "\u001b[1;32m/Users/martinbravodiaz/Library/CloudStorage/OneDrive-UniversidaddeChile/Estudio/Universidad/6° Semestre/Bases de Datos/Laboratorios/Laboratorio_7/lab7.ipynb Cell 7\u001b[0m line \u001b[0;36m2\n\u001b[1;32m      <a href='vscode-notebook-cell:/Users/martinbravodiaz/Library/CloudStorage/OneDrive-UniversidaddeChile/Estudio/Universidad/6%C2%B0%20Semestre/Bases%20de%20Datos/Laboratorios/Laboratorio_7/lab7.ipynb#W6sZmlsZQ%3D%3D?line=0'>1</a>\u001b[0m \u001b[39mdef\u001b[39;00m \u001b[39mget_conn\u001b[39m():\n\u001b[0;32m----> <a href='vscode-notebook-cell:/Users/martinbravodiaz/Library/CloudStorage/OneDrive-UniversidaddeChile/Estudio/Universidad/6%C2%B0%20Semestre/Bases%20de%20Datos/Laboratorios/Laboratorio_7/lab7.ipynb#W6sZmlsZQ%3D%3D?line=1'>2</a>\u001b[0m     conn \u001b[39m=\u001b[39m psycopg2\u001b[39m.\u001b[39mconnect (\n\u001b[1;32m      <a href='vscode-notebook-cell:/Users/martinbravodiaz/Library/CloudStorage/OneDrive-UniversidaddeChile/Estudio/Universidad/6%C2%B0%20Semestre/Bases%20de%20Datos/Laboratorios/Laboratorio_7/lab7.ipynb#W6sZmlsZQ%3D%3D?line=2'>3</a>\u001b[0m         host     \u001b[39m=\u001b[39m \u001b[39m\"\u001b[39m\u001b[39mcc3201.dcc.uchile.cl\u001b[39m\u001b[39m\"\u001b[39m,\n\u001b[1;32m      <a href='vscode-notebook-cell:/Users/martinbravodiaz/Library/CloudStorage/OneDrive-UniversidaddeChile/Estudio/Universidad/6%C2%B0%20Semestre/Bases%20de%20Datos/Laboratorios/Laboratorio_7/lab7.ipynb#W6sZmlsZQ%3D%3D?line=3'>4</a>\u001b[0m         database \u001b[39m=\u001b[39m \u001b[39m\"\u001b[39m\u001b[39mcc3201\u001b[39m\u001b[39m\"\u001b[39m,\n\u001b[1;32m      <a href='vscode-notebook-cell:/Users/martinbravodiaz/Library/CloudStorage/OneDrive-UniversidaddeChile/Estudio/Universidad/6%C2%B0%20Semestre/Bases%20de%20Datos/Laboratorios/Laboratorio_7/lab7.ipynb#W6sZmlsZQ%3D%3D?line=4'>5</a>\u001b[0m         user     \u001b[39m=\u001b[39m \u001b[39m\"\u001b[39m\u001b[39mcc3201\u001b[39m\u001b[39m\"\u001b[39m,\n\u001b[1;32m      <a href='vscode-notebook-cell:/Users/martinbravodiaz/Library/CloudStorage/OneDrive-UniversidaddeChile/Estudio/Universidad/6%C2%B0%20Semestre/Bases%20de%20Datos/Laboratorios/Laboratorio_7/lab7.ipynb#W6sZmlsZQ%3D%3D?line=5'>6</a>\u001b[0m         password \u001b[39m=\u001b[39m \u001b[39m\"\u001b[39m\u001b[39mj\u001b[39m\u001b[39m'\u001b[39m\u001b[39m<3_cc3201\u001b[39m\u001b[39m\"\u001b[39m,\n\u001b[1;32m      <a href='vscode-notebook-cell:/Users/martinbravodiaz/Library/CloudStorage/OneDrive-UniversidaddeChile/Estudio/Universidad/6%C2%B0%20Semestre/Bases%20de%20Datos/Laboratorios/Laboratorio_7/lab7.ipynb#W6sZmlsZQ%3D%3D?line=6'>7</a>\u001b[0m         port     \u001b[39m=\u001b[39m \u001b[39m\"\u001b[39m\u001b[39m5440\u001b[39m\u001b[39m\"\u001b[39m\n\u001b[1;32m      <a href='vscode-notebook-cell:/Users/martinbravodiaz/Library/CloudStorage/OneDrive-UniversidaddeChile/Estudio/Universidad/6%C2%B0%20Semestre/Bases%20de%20Datos/Laboratorios/Laboratorio_7/lab7.ipynb#W6sZmlsZQ%3D%3D?line=7'>8</a>\u001b[0m     )\n\u001b[1;32m      <a href='vscode-notebook-cell:/Users/martinbravodiaz/Library/CloudStorage/OneDrive-UniversidaddeChile/Estudio/Universidad/6%C2%B0%20Semestre/Bases%20de%20Datos/Laboratorios/Laboratorio_7/lab7.ipynb#W6sZmlsZQ%3D%3D?line=8'>9</a>\u001b[0m     \u001b[39mreturn\u001b[39;00m conn\n",
      "\u001b[0;31mNameError\u001b[0m: name 'psycopg2' is not defined"
     ]
    }
   ],
   "source": [
    "print(\"Consulta anidada: \\n\")\n",
    "\n",
    "print(\"  Consulta no optimizada: \")\n",
    "opt_anidada = get_result(\"opt\", True)\n",
    "plt.plot(size_tables, opt_anidada, marker='x', color='r', linestyle='-', label=\"opt\")\n",
    "\n",
    "print(\"  Consulta optimizada: \")\n",
    "opti_anidada = get_result(\"opti\", True)\n",
    "plt.plot(size_tables, opti_anidada, marker='o', color='b', linestyle='-', label=\"opti\")\n",
    "\n",
    "plt.ylabel(\"Tiempo (ms)\")\n",
    "plt.xlabel(\"Tamaño (tuplas)\"+\" \"*20+r\"$\\cdot 10^{4}$\")\n",
    "plt.title(\"Consulta con anidación\")\n",
    "plt.legend()\n",
    "plt.show()"
   ]
  },
  {
   "cell_type": "code",
   "execution_count": null,
   "metadata": {},
   "outputs": [
    {
     "name": "stdout",
     "output_type": "stream",
     "text": [
      "Consulta no anidada: \n",
      "\n",
      "  consulta no optimizada:\n",
      "\t 100:    Planning Time: 3.790 ms Execution Time: 142.935 ms\n",
      "\t 1000:   Planning Time: 4.880 ms Execution Time: 72.676 ms\n",
      "\t 10000:  Planning Time: 3.109 ms Execution Time: 37.018 ms\n",
      "  consulta optimizada:\n",
      "\t 100:    Planning Time: 4.890 ms Execution Time: 25.631 ms\n",
      "\t 1000:   Planning Time: 3.953 ms Execution Time: 12.960 ms\n",
      "\t 10000:  Planning Time: 5.985 ms Execution Time: 10.632 ms\n"
     ]
    },
    {
     "data": {
      "image/png": "[encoded data removed]",
      "text/plain": [
       "<Figure size 640x480 with 1 Axes>"
      ]
     },
     "metadata": {},
     "output_type": "display_data"
    }
   ],
   "source": [
    "print(\"Consulta no anidada: \\n\")\n",
    "\n",
    "print(\"  consulta no optimizada:\")\n",
    "opt_no_anidada = get_result(\"opt\", False)\n",
    "plt.plot(size_tables, opt_anidada, marker='x',color='r', linestyle='-', label=\"opt\")\n",
    "\n",
    "print(\"  consulta optimizada:\")\n",
    "opti_no_anidada = get_result(\"opti\", False)\n",
    "plt.plot(size_tables, opti_no_anidada, marker='o', color='b', linestyle='-', label=\"opti\")\n",
    "\n",
    "plt.ylabel(\"Tiempo (ms)\")\n",
    "plt.xlabel(\"Tamaño (tuplas)\"+\" \"*10+r\"$\\cdot 10^4$\")\n",
    "plt.legend()\n",
    "plt.title(\"Consulta sin anidación\")\n",
    "plt.show()"
   ]
  }
 ],
 "metadata": {
  "kernelspec": {
   "display_name": "venv",
   "language": "python",
   "name": "python3"
  },
  "language_info": {
   "codemirror_mode": {
    "name": "ipython",
    "version": 3
   },
   "file_extension": ".py",
   "mimetype": "text/x-python",
   "name": "python",
   "nbconvert_exporter": "python",
   "pygments_lexer": "ipython3",
   "version": "3.11.4"
  }
 },
 "nbformat": 4,
 "nbformat_minor": 2
}
